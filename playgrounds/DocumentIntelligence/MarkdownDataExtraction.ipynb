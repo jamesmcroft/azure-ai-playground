{
 "cells": [
  {
   "cell_type": "code",
   "execution_count": null,
   "metadata": {
    "dotnet_interactive": {
     "language": "csharp"
    },
    "polyglot_notebook": {
     "kernelName": "csharp"
    },
    "vscode": {
     "languageId": "polyglot-notebook"
    }
   },
   "outputs": [],
   "source": [
    "#r \"nuget:System.Text.Json, 8.0.1\"\n",
    "#r \"nuget:Azure.AI.DocumentIntelligence, 1.0.0-beta.2\"\n",
    "#r \"nuget:Azure.AI.OpenAI, 1.0.0-beta.16\"\n",
    "#r \"nuget:Azure.Identity, 1.10.4\"\n",
    "#r \"nuget:DotNetEnv, 3.0.0\""
   ]
  },
  {
   "cell_type": "code",
   "execution_count": null,
   "metadata": {
    "dotnet_interactive": {
     "language": "csharp"
    },
    "polyglot_notebook": {
     "kernelName": "csharp"
    },
    "vscode": {
     "languageId": "polyglot-notebook"
    }
   },
   "outputs": [],
   "source": [
    "using System.Net;\n",
    "using System.Net.Http;\n",
    "using System.Text.Json.Nodes;\n",
    "using System.Text.Json;\n",
    "using System.IO; \n",
    "\n",
    "using Azure;\n",
    "using Azure.AI.DocumentIntelligence;\n",
    "using Azure.AI.OpenAI;\n",
    "using Azure.Identity;\n",
    "using DotNetEnv;"
   ]
  },
  {
   "cell_type": "code",
   "execution_count": null,
   "metadata": {
    "dotnet_interactive": {
     "language": "csharp"
    },
    "polyglot_notebook": {
     "kernelName": "csharp"
    },
    "vscode": {
     "languageId": "polyglot-notebook"
    }
   },
   "outputs": [],
   "source": [
    "Env.Load(\"../../.env\");\n",
    "\n",
    "string documentIntelligenceEndpoint = Environment.GetEnvironmentVariable(\"DOCUMENT_INTELLIGENCE_ENDPOINT\");\n",
    "string openAIEndpoint = Environment.GetEnvironmentVariable(\"COMPLETIONS_OPENAI_ENDPOINT\");\n",
    "string openAIModelDeployment = Environment.GetEnvironmentVariable(\"COMPLETIONS_OPENAI_COMPLETION_MODEL_DEPLOYMENT\");\n",
    "string openAIApiVersion = \"2024-03-01-preview\";\n",
    "\n",
    "var credential = new DefaultAzureCredential(new DefaultAzureCredentialOptions { \n",
    "    ExcludeEnvironmentCredential = true,\n",
    "    ExcludeManagedIdentityCredential = true,\n",
    "    ExcludeSharedTokenCacheCredential = true,\n",
    "    ExcludeInteractiveBrowserCredential = true,\n",
    "    ExcludeAzurePowerShellCredential = true,\n",
    "    ExcludeVisualStudioCodeCredential = false,\n",
    "    ExcludeAzureCliCredential = false\n",
    "});\n",
    "\n",
    "var documentName = \"../Assets/DocumentTrainingData/Invoice_1.pdf\";\n",
    "\n",
    "var documentIntelligenceClient = new DocumentIntelligenceClient(new Uri(documentIntelligenceEndpoint), credential);\n",
    "var openAIClient = new OpenAIClient(new Uri(openAIEndpoint), credential);"
   ]
  },
  {
   "cell_type": "code",
   "execution_count": null,
   "metadata": {
    "vscode": {
     "languageId": "polyglot-notebook"
    }
   },
   "outputs": [],
   "source": [
    "var markdownAnalysisContent = new AnalyzeDocumentContent()\n",
    "{\n",
    "    Base64Source = BinaryData.FromBytes(File.ReadAllBytes(documentName))\n",
    "};\n",
    "\n",
    "Operation<AnalyzeResult> markdownAnalysisOperation = await documentIntelligenceClient.AnalyzeDocumentAsync(WaitUntil.Completed, \"prebuilt-layout\", markdownAnalysisContent, outputContentFormat: ContentFormat.Markdown);\n",
    "var markdown = markdownAnalysisOperation.Value.Content;\n",
    "\n",
    "var jsonStructure = new {\n",
    "    customer = \"\",\n",
    "    invoice_date = \"\",\n",
    "    products = new [] {\n",
    "        new {\n",
    "            id = \"\",\n",
    "            unit_price = \"\",\n",
    "            quantity = \"\",\n",
    "            total = \"\"\n",
    "        }\n",
    "    },\n",
    "    total_amount = \"\",\n",
    "    signatures = new [] {\n",
    "        new {\n",
    "            type = \"\",\n",
    "            has_signature = \"\",\n",
    "            signed_on = \"\"\n",
    "        }\n",
    "    }\n",
    "};\n",
    "\n",
    "ChatCompletionsOptions options = new ChatCompletionsOptions()\n",
    "{\n",
    "    DeploymentName = openAIModelDeployment,\n",
    "    MaxTokens = 4096,\n",
    "    Temperature = 0.1f,\n",
    "    NucleusSamplingFactor = 0.1f\n",
    "};\n",
    "\n",
    "options.Messages.Add(new ChatRequestSystemMessage(\"You are an AI assistant that extracts data from documents and returns them as structured JSON objects. Do not return as a code block.\"));\n",
    "options.Messages.Add(new ChatRequestUserMessage($\"Extract the data from this invoice. If a value is not present, provide null. Use the following structure: {JsonSerializer.Serialize(jsonStructure)}\"));\n",
    "options.Messages.Add(new ChatRequestUserMessage(markdown));\n",
    "\n",
    "var response = await openAIClient.GetChatCompletionsAsync(options);\n",
    "\n",
    "var content = response.Value.Choices[0].Message.Content;\n",
    "\n",
    "File.WriteAllText(\"MarkdownDataExtraction-ContentResponse.json\", content);\n",
    "\n",
    "Console.WriteLine(\"MarkdownDataExtraction-ContentResponse.json has been created with the content from the response from the OpenAI API.\");"
   ]
  }
 ],
 "metadata": {
  "language_info": {
   "name": "python"
  }
 },
 "nbformat": 4,
 "nbformat_minor": 2
}
