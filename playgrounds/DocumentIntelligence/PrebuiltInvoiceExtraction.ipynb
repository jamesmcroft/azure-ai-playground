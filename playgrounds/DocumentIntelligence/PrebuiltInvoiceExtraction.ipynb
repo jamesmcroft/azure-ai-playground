{
 "cells": [
  {
   "cell_type": "code",
   "execution_count": null,
   "metadata": {
    "dotnet_interactive": {
     "language": "csharp"
    },
    "polyglot_notebook": {
     "kernelName": "csharp"
    },
    "vscode": {
     "languageId": "polyglot-notebook"
    }
   },
   "outputs": [],
   "source": [
    "#r \"nuget:System.Text.Json, 8.0.3\"\n",
    "#r \"nuget:Azure.AI.DocumentIntelligence, 1.0.0-beta.2\"\n",
    "#r \"nuget:Azure.Identity, 1.12.0\"\n",
    "#r \"nuget:DotNetEnv, 3.0.0\""
   ]
  },
  {
   "cell_type": "code",
   "execution_count": null,
   "metadata": {
    "dotnet_interactive": {
     "language": "csharp"
    },
    "polyglot_notebook": {
     "kernelName": "csharp"
    },
    "vscode": {
     "languageId": "polyglot-notebook"
    }
   },
   "outputs": [],
   "source": [
    "using System.Net;\n",
    "using System.Net.Http;\n",
    "using System.Text.Json.Nodes;\n",
    "using System.Text.Json;\n",
    "using System.IO; \n",
    "\n",
    "using Azure;\n",
    "using Azure.AI.DocumentIntelligence;\n",
    "using Azure.Identity;\n",
    "using DotNetEnv;"
   ]
  },
  {
   "cell_type": "code",
   "execution_count": null,
   "metadata": {
    "dotnet_interactive": {
     "language": "csharp"
    },
    "polyglot_notebook": {
     "kernelName": "csharp"
    },
    "vscode": {
     "languageId": "polyglot-notebook"
    }
   },
   "outputs": [],
   "source": [
    "Env.Load(\"../../.env\");\n",
    "\n",
    "string documentIntelligenceEndpoint = Environment.GetEnvironmentVariable(\"DOCUMENT_INTELLIGENCE_ENDPOINT\");\n",
    "\n",
    "var credential = new DefaultAzureCredential(new DefaultAzureCredentialOptions { \n",
    "    ExcludeEnvironmentCredential = true,\n",
    "    ExcludeManagedIdentityCredential = true,\n",
    "    ExcludeSharedTokenCacheCredential = true,\n",
    "    ExcludeInteractiveBrowserCredential = true,\n",
    "    ExcludeAzurePowerShellCredential = true,\n",
    "    ExcludeVisualStudioCodeCredential = false,\n",
    "    ExcludeAzureCliCredential = false\n",
    "});\n",
    "\n",
    "var documentName = \"../Assets/Invoices/Invoice-Complex.pdf\";\n",
    "\n",
    "var documentIntelligenceClient = new DocumentIntelligenceClient(new Uri(documentIntelligenceEndpoint), credential);\n"
   ]
  },
  {
   "cell_type": "code",
   "execution_count": null,
   "metadata": {
    "dotnet_interactive": {
     "language": "csharp"
    },
    "polyglot_notebook": {
     "kernelName": "csharp"
    },
    "vscode": {
     "languageId": "polyglot-notebook"
    }
   },
   "outputs": [],
   "source": [
    "AnalyzeDocumentContent markdownAnalysisContent = new AnalyzeDocumentContent()\n",
    "{\n",
    "    Base64Source = BinaryData.FromBytes(File.ReadAllBytes(documentName))\n",
    "};\n",
    "\n",
    "Operation<AnalyzeResult> markdownAnalysisOperation = await documentIntelligenceClient.AnalyzeDocumentAsync(\n",
    "    WaitUntil.Completed, \n",
    "    \"prebuilt-invoice\", \n",
    "    markdownAnalysisContent, \n",
    "    features: new[] { DocumentAnalysisFeature.QueryFields },\n",
    "    outputContentFormat: ContentFormat.Markdown, \n",
    "    queryFields: new List<string> { \"DeliveryDate\", \"CollectionDate\", \"CustomerSignatoryName\", \"DriverSignatoryName\"});"
   ]
  },
  {
   "cell_type": "code",
   "execution_count": null,
   "metadata": {
    "dotnet_interactive": {
     "language": "csharp"
    },
    "polyglot_notebook": {
     "kernelName": "csharp"
    },
    "vscode": {
     "languageId": "polyglot-notebook"
    }
   },
   "outputs": [],
   "source": [
    "public class CustomInvoice(IReadOnlyDictionary<string, DocumentField> fields) : Invoice(fields)\n",
    "{\n",
    "    public DateTimeOffset? DeliveryDate { get; set; }\n",
    "    public DateTimeOffset? CollectionDate { get; set; }\n",
    "    public string? CustomerSignatoryName { get; set; }\n",
    "    public string? DriverSignatoryName { get; set; }\n",
    "\n",
    "    public override void InitializeFromFields(IReadOnlyDictionary<string, DocumentField> fields)\n",
    "    {\n",
    "        base.InitializeFromFields(fields);\n",
    "\n",
    "        foreach (var field in fields)\n",
    "        {\n",
    "            switch (field.Key)\n",
    "            {\n",
    "                case \"DeliveryDate\":\n",
    "                    DeliveryDate = DateTimeOffset.TryParse(field.Value.Content, out var deliveryDate) ? deliveryDate : default(DateTimeOffset?);\n",
    "                    break;\n",
    "                case \"CollectionDate\":\n",
    "                    CollectionDate = DateTimeOffset.TryParse(field.Value.Content, out var collectionDate) ? collectionDate : default(DateTimeOffset?);\n",
    "                    break;\n",
    "                case \"CustomerSignatoryName\":\n",
    "                    CustomerSignatoryName = field.Value.Content;\n",
    "                    break;\n",
    "                case \"DriverSignatoryName\":\n",
    "                    DriverSignatoryName = field.Value.Content;\n",
    "                    break;\n",
    "            }\n",
    "        }\n",
    "    }\n",
    "}\n",
    "\n",
    "public class Invoice\n",
    "{\n",
    "    public Invoice(IReadOnlyDictionary<string, DocumentField> fields)\n",
    "    {\n",
    "        InitializeFromFields(fields);\n",
    "    }\n",
    "\n",
    "    public string? CustomerName { get; set; }\n",
    "    public string? CustomerId { get; set; }\n",
    "    public string? PurchaseOrder { get; set; }\n",
    "    public string? InvoiceId { get; set; }\n",
    "    public DateTimeOffset? InvoiceDate { get; set; }\n",
    "    public DateTimeOffset? DueDate { get; set; }\n",
    "    public string? VendorName { get; set; }\n",
    "    public string? VendorAddress { get; set; }\n",
    "    public string? VendorAddressRecipient { get; set; }\n",
    "    public string? CustomerAddress { get; set; }\n",
    "    public string? CustomerAddressRecipient { get; set; }\n",
    "    public string? BillingAddress { get; set; }\n",
    "    public string? BillingAddressRecipient { get; set; }\n",
    "    public string? ShippingAddress { get; set; }\n",
    "    public string? ShippingAddressRecipient { get; set; }\n",
    "    public double? SubTotal { get; set; }\n",
    "    public double? TotalDiscount { get; set; }\n",
    "    public double? InvoiceTotal { get; set; }\n",
    "    public double? AmountDue { get; set; }\n",
    "    public double? PreviousUnpaidBalance { get; set; }\n",
    "    public string? ServiceAddress { get; set; }\n",
    "    public string? ServiceAddressRecipient { get; set; }\n",
    "    public DateTimeOffset? ServiceStartDate { get; set; }\n",
    "    public DateTimeOffset? ServiceEndDate { get; set; }\n",
    "    public string? VendorTaxId { get; set; }\n",
    "    public string? CustomerTaxId { get; set; }\n",
    "    public string? PaymentTerm { get; set; }\n",
    "    public string? KVKNumber { get; set; }\n",
    "    public string? CurrencyCode { get; set; }\n",
    "    public IEnumerable<string>? PaymentDetails { get; set; }\n",
    "    public IEnumerable<string>? TaxDetails { get; set; }\n",
    "    public IEnumerable<InvoiceItem>? Items { get; set; }\n",
    "\n",
    "    public class InvoiceItem\n",
    "    {\n",
    "        public double? Amount { get; set; }\n",
    "        public DateTimeOffset? Date { get; set; }\n",
    "        public string? Description { get; set; }\n",
    "        public double? Quantity { get; set; }\n",
    "        public string? ProductCode { get; set; }\n",
    "        public double? Tax { get; set; }\n",
    "        public string? TaxRate { get; set; }\n",
    "        public string? Unit { get; set; }\n",
    "        public double? UnitPrice { get; set; }\n",
    "    }\n",
    "\n",
    "    public virtual void InitializeFromFields(IReadOnlyDictionary<string, DocumentField> fields)\n",
    "    {\n",
    "        foreach (var field in fields)\n",
    "        {\n",
    "            switch (field.Key)\n",
    "            {\n",
    "                case \"CustomerName\":\n",
    "                    CustomerName = field.Value.Content;\n",
    "                    break;\n",
    "                case \"CustomerId\":\n",
    "                    CustomerId = field.Value.Content;\n",
    "                    break;\n",
    "                case \"PurchaseOrder\":\n",
    "                    PurchaseOrder = field.Value.Content;\n",
    "                    break;\n",
    "                case \"InvoiceId\":\n",
    "                    InvoiceId = field.Value.Content;\n",
    "                    break;\n",
    "                case \"InvoiceDate\":\n",
    "                    InvoiceDate = field.Value.ValueDate;\n",
    "                    break;\n",
    "                case \"DueDate\":\n",
    "                    DueDate = field.Value.ValueDate;\n",
    "                    break;\n",
    "                case \"VendorName\":\n",
    "                    VendorName = field.Value.Content;\n",
    "                    break;\n",
    "                case \"VendorAddress\":\n",
    "                    VendorAddress = field.Value.Content;\n",
    "                    break;\n",
    "                case \"VendorAddressRecipient\":\n",
    "                    VendorAddressRecipient = field.Value.Content;\n",
    "                    break;\n",
    "                case \"CustomerAddress\":\n",
    "                    CustomerAddress = field.Value.Content;\n",
    "                    break;\n",
    "                case \"CustomerAddressRecipient\":\n",
    "                    CustomerAddressRecipient = field.Value.Content;\n",
    "                    break;\n",
    "                case \"BillingAddress\":\n",
    "                    BillingAddress = field.Value.Content;\n",
    "                    break;\n",
    "                case \"BillingAddressRecipient\":\n",
    "                    BillingAddressRecipient = field.Value.Content;\n",
    "                    break;\n",
    "                case \"ShippingAddress\":\n",
    "                    ShippingAddress = field.Value.Content;\n",
    "                    break;\n",
    "                case \"ShippingAddressRecipient\":\n",
    "                    ShippingAddressRecipient = field.Value.Content;\n",
    "                    break;\n",
    "                case \"SubTotal\":\n",
    "                    SubTotal = field.Value.ValueCurrency.Amount;\n",
    "                    break;\n",
    "                case \"TotalDiscount\":\n",
    "                    TotalDiscount = field.Value.ValueCurrency.Amount;\n",
    "                    break;\n",
    "                case \"InvoiceTotal\":\n",
    "                    InvoiceTotal = field.Value.ValueCurrency.Amount;\n",
    "                    break;\n",
    "                case \"AmountDue\":\n",
    "                    AmountDue = field.Value.ValueCurrency.Amount;\n",
    "                    break;\n",
    "                case \"PreviousUnpaidBalance\":\n",
    "                    PreviousUnpaidBalance = field.Value.ValueCurrency.Amount;\n",
    "                    break;\n",
    "                case \"ServiceAddress\":\n",
    "                    ServiceAddress = field.Value.Content;\n",
    "                    break;\n",
    "                case \"ServiceAddressRecipient\":\n",
    "                    ServiceAddressRecipient = field.Value.Content;\n",
    "                    break;\n",
    "                case \"ServiceStartDate\":\n",
    "                    ServiceStartDate = field.Value.ValueDate;\n",
    "                    break;\n",
    "                case \"ServiceEndDate\":\n",
    "                    ServiceEndDate = field.Value.ValueDate;\n",
    "                    break;\n",
    "                case \"VendorTaxId\":\n",
    "                    VendorTaxId = field.Value.Content;\n",
    "                    break;\n",
    "                case \"CustomerTaxId\":\n",
    "                    CustomerTaxId = field.Value.Content;\n",
    "                    break;\n",
    "                case \"PaymentTerm\":\n",
    "                    PaymentTerm = field.Value.Content;\n",
    "                    break;\n",
    "                case \"KVKNumber\":\n",
    "                    KVKNumber = field.Value.Content;\n",
    "                    break;\n",
    "                case \"CurrencyCode\":\n",
    "                    CurrencyCode = field.Value.Content;\n",
    "                    break;\n",
    "                case \"PaymentDetails\":\n",
    "                    PaymentDetails = field.Value.ValueList.Select(x => x.Content);\n",
    "                    break;\n",
    "                case \"TaxDetails\": \n",
    "                    TaxDetails = field.Value.ValueList.Select(x => x.Content);\n",
    "                    break;\n",
    "                case \"Items\":\n",
    "                    Items = field.Value.ValueList.Select(x => x.ValueDictionary).Select(x => new InvoiceItem\n",
    "                    {\n",
    "                        Amount = x.TryGetValue(\"Amount\", out var amount) ? amount.ValueCurrency.Amount : default(double?),\n",
    "                        Date = x.TryGetValue(\"Date\", out var date) ? date.ValueDate : default(DateTimeOffset?),\n",
    "                        Description = x.TryGetValue(\"Description\", out var description) ? description.Content : default(string?),\n",
    "                        Quantity = x.TryGetValue(\"Quantity\", out var quantity) ? quantity.ValueDouble : default(int?),\n",
    "                        ProductCode = x.TryGetValue(\"ProductCode\", out var productCode) ? productCode.Content : default(string?),\n",
    "                        Tax = x.TryGetValue(\"Tax\", out var tax) ? tax.ValueCurrency.Amount : default(double?),\n",
    "                        TaxRate = x.TryGetValue(\"TaxRate\", out var taxRate) ? taxRate.Content : default(string?),\n",
    "                        Unit = x.TryGetValue(\"Unit\", out var unit) ? unit.Content : default(string?),\n",
    "                        UnitPrice = x.TryGetValue(\"UnitPrice\", out var unitPrice) ? unitPrice.ValueCurrency.Amount : default(double?)\n",
    "                    });\n",
    "                    break;\n",
    "            }\n",
    "        }\n",
    "    }\n",
    "}"
   ]
  },
  {
   "cell_type": "code",
   "execution_count": null,
   "metadata": {
    "dotnet_interactive": {
     "language": "csharp"
    },
    "polyglot_notebook": {
     "kernelName": "csharp"
    },
    "vscode": {
     "languageId": "polyglot-notebook"
    }
   },
   "outputs": [],
   "source": [
    "AnalyzeResult markdownAnalysisResult = markdownAnalysisOperation.Value;\n",
    "\n",
    "var invoiceFields = markdownAnalysisResult.Documents[0].Fields;\n",
    "var invoice = new CustomInvoice(markdownAnalysisResult.Documents[0].Fields);\n",
    "\n",
    "File.WriteAllText(\"PrebuiltInvoiceExtraction-FieldsResponse.json\", JsonSerializer.Serialize(invoiceFields, new JsonSerializerOptions { WriteIndented = true }));\n",
    "File.WriteAllText(\"PrebuiltInvoiceExtraction-ContentResponse.json\", JsonSerializer.Serialize(invoice, new JsonSerializerOptions { WriteIndented = true }));\n",
    "\n",
    "Console.WriteLine(\"PrebuiltInvoiceExtraction-FieldsResponse.json has been created from the Azure AI Document Intelligence service response.\");\n",
    "Console.WriteLine(\"PrebuiltInvoiceExtraction-ContentResponse.json has been created from parsing the Azure AI Document Intelligence service response into a POCO.\");"
   ]
  }
 ],
 "metadata": {
  "kernelspec": {
   "display_name": ".NET (C#)",
   "language": "C#",
   "name": ".net-csharp"
  },
  "language_info": {
   "name": "python"
  },
  "polyglot_notebook": {
   "kernelInfo": {
    "defaultKernelName": "csharp",
    "items": [
     {
      "aliases": [],
      "name": "csharp"
     }
    ]
   }
  }
 },
 "nbformat": 4,
 "nbformat_minor": 2
}
