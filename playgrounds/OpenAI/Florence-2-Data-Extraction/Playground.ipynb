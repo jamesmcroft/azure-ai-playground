{
 "cells": [
  {
   "cell_type": "code",
   "execution_count": null,
   "metadata": {},
   "outputs": [],
   "source": [
    "import sys\n",
    "sys.path.append('../../../')\n",
    "\n",
    "import os\n",
    "from dotenv import dotenv_values\n",
    "from openai import AzureOpenAI\n",
    "from azure.identity import DefaultAzureCredential, get_bearer_token_provider\n",
    "from modules.app_settings import AppSettings\n",
    "from modules.invoice import InvoiceData, InvoiceDataProduct\n",
    "from modules.medical import MedicalRecord, MedicalRecordPatient, MedicalRecordReferral\n",
    "\n",
    "from transformers import AutoProcessor, AutoModelForCausalLM  \n",
    "from PIL import Image\n",
    "import requests\n",
    "import copy\n",
    "%matplotlib inline "
   ]
  },
  {
   "cell_type": "code",
   "execution_count": null,
   "metadata": {},
   "outputs": [],
   "source": [
    "# Get environment variables\n",
    "working_dir = os.path.abspath('../../../')\n",
    "settings = AppSettings(dotenv_values(f\"{working_dir}/.env\"))"
   ]
  },
  {
   "cell_type": "code",
   "execution_count": null,
   "metadata": {},
   "outputs": [],
   "source": [
    "# Configure Azure OpenAI\n",
    "token_provider = get_bearer_token_provider(DefaultAzureCredential(), \"https://cognitiveservices.azure.com/.default\")\n",
    "\n",
    "openai_client = AzureOpenAI(\n",
    "  azure_endpoint = settings.completions_openai_endpoint,\n",
    "  azure_ad_token_provider=token_provider,\n",
    "  api_version=\"2024-02-01\"\n",
    ")"
   ]
  },
  {
   "cell_type": "code",
   "execution_count": null,
   "metadata": {},
   "outputs": [],
   "source": [
    "# Setup Florence-2-large model from Hugging Face\n",
    "model_id = 'microsoft/Florence-2-large'\n",
    "model = AutoModelForCausalLM.from_pretrained(model_id, trust_remote_code=True).eval().cuda()\n",
    "processor = AutoProcessor.from_pretrained(model_id, trust_remote_code=True)"
   ]
  },
  {
   "cell_type": "code",
   "execution_count": null,
   "metadata": {},
   "outputs": [],
   "source": [
    "# Function to run a prompt with the Florence-2-large model\n",
    "def run_example(task_prompt, image, text_input=None):\n",
    "    if text_input is None:\n",
    "        prompt = task_prompt\n",
    "    else:\n",
    "        prompt = task_prompt + text_input\n",
    "    inputs = processor(text=prompt, images=image, return_tensors=\"pt\")\n",
    "    generated_ids = model.generate(\n",
    "      input_ids=inputs[\"input_ids\"].cuda(),\n",
    "      pixel_values=inputs[\"pixel_values\"].cuda(),\n",
    "      max_new_tokens=1024,\n",
    "      early_stopping=False,\n",
    "      do_sample=False,\n",
    "      num_beams=3,\n",
    "    )\n",
    "    generated_text = processor.batch_decode(generated_ids, skip_special_tokens=False)[0]\n",
    "    parsed_answer = processor.post_process_generation(\n",
    "        generated_text, \n",
    "        task=task_prompt, \n",
    "        image_size=(image.width, image.height)\n",
    "    )\n",
    "\n",
    "    return parsed_answer\n"
   ]
  },
  {
   "cell_type": "code",
   "execution_count": null,
   "metadata": {},
   "outputs": [],
   "source": [
    "# Setup the PDF image file\n",
    "pdf_image_file_name = 'Invoice-Complex-Scanned.pdf_0.png'\n",
    "pdf_image_file_path = os.path.join(os.path.abspath('./'), pdf_image_file_name)\n",
    "subfolder_path = os.path.join(os.path.abspath('./'), pdf_image_file_name.split('.')[0])\n",
    "\n",
    "if not os.path.exists(subfolder_path):\n",
    "    os.makedirs(subfolder_path)\n",
    "\n",
    "expected = InvoiceData(\n",
    "    invoice_number='3847193',\n",
    "    purchase_order_number='15931',\n",
    "    customer_name='Sharp Consulting',\n",
    "    customer_address='73 Regal Way, Leeds, LS1 5AB, UK',\n",
    "    delivery_date='2024-05-16',\n",
    "    payable_by='2024-05-24',\n",
    "    products=[\n",
    "        InvoiceDataProduct(\n",
    "            id='MA197',\n",
    "            description='STRETCHWRAP ROLL',\n",
    "            unit_price=16.62,\n",
    "            quantity=5,\n",
    "            total=83.10\n",
    "        ),\n",
    "        InvoiceDataProduct(\n",
    "            id='ST4086',\n",
    "            description='BALLPOINT PEN MED.',\n",
    "            unit_price=2.49,\n",
    "            quantity=10,\n",
    "            total=24.90\n",
    "        ),\n",
    "        InvoiceDataProduct(\n",
    "            id='JF9912413BF',\n",
    "            description='BUBBLE FILM ROLL CL.',\n",
    "            unit_price=15.46,\n",
    "            quantity=12,\n",
    "            total=185.52\n",
    "        ),\n",
    "    ],\n",
    "    returns=[],\n",
    "    total_product_quantity=27,\n",
    "    total_product_price=293.52\n",
    ")\n",
    "\n",
    "image = Image.open(filePath)\n",
    "image"
   ]
  },
  {
   "cell_type": "code",
   "execution_count": null,
   "metadata": {},
   "outputs": [],
   "source": [
    "task_prompt = '<OCR>'\n",
    "# task_prompt = '<OCR_WITH_REGION>'\n",
    "results = run_example(task_prompt, image)\n",
    "print(results)"
   ]
  },
  {
   "cell_type": "code",
   "execution_count": null,
   "metadata": {},
   "outputs": [],
   "source": [
    "full_text = results[task_prompt]"
   ]
  },
  {
   "cell_type": "code",
   "execution_count": null,
   "metadata": {},
   "outputs": [],
   "source": [
    "json_structure = InvoiceData.empty_json_str()\n",
    "\n",
    "completion = openai_client.chat.completions.create(\n",
    "    model=settings.completions_openai_completion_model_deployment,\n",
    "    messages=[\n",
    "        {\n",
    "            \"role\": \"system\",\n",
    "            \"content\": \"You are an AI assistant that extracts data from documents and returns them as structured JSON objects. Do not return as a code block.\",\n",
    "        },\n",
    "        {\n",
    "            \"role\": \"user\",\n",
    "            \"content\": \"Extract the data from this invoice. If a value is not present, provide null. Use the following structure: \" + json_structure,\n",
    "        },\n",
    "        {\n",
    "            \"role\": \"user\",\n",
    "            \"content\": full_text,\n",
    "        }\n",
    "    ],\n",
    ")"
   ]
  },
  {
   "cell_type": "code",
   "execution_count": null,
   "metadata": {},
   "outputs": [],
   "source": [
    "response_json_str = completion.choices[0].message.content\n",
    "record = InvoiceData.from_json_str(response_json_str)\n",
    "\n",
    "record_json = record.to_json()\n",
    "accuracy = expected.compare_accuracy(record)\n",
    "overall_accuracy_percent = accuracy['overall'] * 100\n",
    "\n",
    "print(f\"Response: {record_json}\")\n",
    "print(f\"Overall Accuracy: {overall_accuracy_percent:.2f}%\")\n",
    "\n",
    "# Save accuracy result to a file\n",
    "with open(f\"{subfolder_path}/Accuracy.txt\", \"w\") as f:\n",
    "    f.write(\"Response:\")\n",
    "    f.write(\"\\n\")\n",
    "    f.write(response_json_str)\n",
    "    f.write(\"\\n\")\n",
    "    f.write(\"\\n\")\n",
    "    f.write(f\"Overall Accuracy: {overall_accuracy_percent:.2f}%\")\n",
    "    f.write(\"\\n\")\n",
    "    f.write(\"\\n\")\n",
    "    f.write(\"Accuracy Detail:\")\n",
    "    f.write(\"\\n\")\n",
    "    f.write(str(accuracy))\n",
    "\n",
    "print(f\"Accuracy result saved to {subfolder_path}/Accuracy.txt\")"
   ]
  }
 ],
 "metadata": {
  "kernelspec": {
   "display_name": "Python 3",
   "language": "python",
   "name": "python3"
  },
  "language_info": {
   "codemirror_mode": {
    "name": "ipython",
    "version": 3
   },
   "file_extension": ".py",
   "mimetype": "text/x-python",
   "name": "python",
   "nbconvert_exporter": "python",
   "pygments_lexer": "ipython3",
   "version": "3.10.12"
  }
 },
 "nbformat": 4,
 "nbformat_minor": 2
}
