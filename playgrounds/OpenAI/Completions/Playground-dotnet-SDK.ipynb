{
 "cells": [
  {
   "cell_type": "code",
   "execution_count": null,
   "metadata": {
    "dotnet_interactive": {
     "language": "csharp"
    },
    "polyglot_notebook": {
     "kernelName": "csharp"
    },
    "vscode": {
     "languageId": "polyglot-notebook"
    }
   },
   "outputs": [],
   "source": [
    "#r \"nuget:System.Text.Json, 8.0.1\"\n",
    "#r \"nuget:Azure.AI.OpenAI, 1.0.0-beta.16\"\n",
    "#r \"nuget:Azure.Identity, 1.10.4\"\n",
    "#r \"nuget:DotNetEnv, 3.0.0\""
   ]
  },
  {
   "cell_type": "code",
   "execution_count": null,
   "metadata": {
    "dotnet_interactive": {
     "language": "csharp"
    },
    "polyglot_notebook": {
     "kernelName": "csharp"
    },
    "vscode": {
     "languageId": "polyglot-notebook"
    }
   },
   "outputs": [],
   "source": [
    "using System.Net;\n",
    "using System.Net.Http;\n",
    "using System.Text.Json.Nodes;\n",
    "using System.Text.Json;\n",
    "using System.IO; \n",
    "\n",
    "using Azure;\n",
    "using Azure.AI.OpenAI;\n",
    "using Azure.Identity;\n",
    "using DotNetEnv;"
   ]
  },
  {
   "cell_type": "code",
   "execution_count": null,
   "metadata": {
    "dotnet_interactive": {
     "language": "csharp"
    },
    "polyglot_notebook": {
     "kernelName": "csharp"
    },
    "vscode": {
     "languageId": "polyglot-notebook"
    }
   },
   "outputs": [],
   "source": [
    "Env.Load(\"../../../.env\");\n",
    "\n",
    "string openAIEndpoint = Environment.GetEnvironmentVariable(\"COMPLETIONS_OPENAI_ENDPOINT\");\n",
    "string openAIModelDeployment = Environment.GetEnvironmentVariable(\"COMPLETIONS_OPENAI_COMPLETION_MODEL_DEPLOYMENT\");\n",
    "string openAIApiVersion = \"2024-03-01-preview\";\n",
    "\n",
    "var credential = new DefaultAzureCredential(new DefaultAzureCredentialOptions { \n",
    "    ExcludeEnvironmentCredential = true,\n",
    "    ExcludeManagedIdentityCredential = true,\n",
    "    ExcludeSharedTokenCacheCredential = true,\n",
    "    ExcludeInteractiveBrowserCredential = true,\n",
    "    ExcludeAzurePowerShellCredential = true,\n",
    "    ExcludeVisualStudioCodeCredential = false,\n",
    "    ExcludeAzureCliCredential = false\n",
    "});\n",
    "\n",
    "var openAIClient = new OpenAIClient(new Uri(openAIEndpoint), credential);\n"
   ]
  },
  {
   "cell_type": "code",
   "execution_count": null,
   "metadata": {
    "dotnet_interactive": {
     "language": "csharp"
    },
    "polyglot_notebook": {
     "kernelName": "csharp"
    },
    "vscode": {
     "languageId": "polyglot-notebook"
    }
   },
   "outputs": [],
   "source": [
    "var jsonStructure = new {\n",
    "    classification = \"\",\n",
    "    text = \"\"\n",
    "};\n",
    "\n",
    "var jsonStructureList = new List<object>();\n",
    "jsonStructureList.Add(jsonStructure);\n",
    "\n",
    "ChatCompletionsOptions options = new ChatCompletionsOptions()\n",
    "{\n",
    "    DeploymentName = openAIModelDeployment,\n",
    "    MaxTokens = 4096,\n",
    "    Temperature = 0.1f,\n",
    "    NucleusSamplingFactor = 0.1f,\n",
    "    EnableLogProbabilities = true,\n",
    "    LogProbabilitiesPerToken = 3\n",
    "};\n",
    "\n",
    "options.Messages.Add(new ChatRequestSystemMessage($\"You are an AI assistant that splits text, classifies it into categories, and returns the response as structured JSON objects using the following structure: {JsonSerializer.Serialize(jsonStructureList)}. Do not return as a code block.\"));\n",
    "options.Messages.Add(new ChatRequestUserMessage(\"Classify the following text in the following categories: 'top_priority', 'high_priority', 'medium_priority', 'low_priority'.\"));\n",
    "options.Messages.Add(new ChatRequestUserMessage(@\"\n",
    "Dear Team,\n",
    "\n",
    "Thank you for attending our recent meeting on building an AI solution using Azure. I wanted to summarize the key points and action items discussed during the meeting:\n",
    "\n",
    "1. Project Overview:\n",
    "  - We discussed the need for an AI solution to enhance customer interactions.\n",
    "  - The goal is to integrate intelligence into our communications across various channels.\n",
    "2. Key Takeaways:\n",
    "  - Azure Communication Services and Azure AI can be used together to automate and transform customer interactions.\n",
    "  - Our solution will provide faster and informed responses across text-based bots, voice channels, email, and SMS.\n",
    "  - Agents can leverage AI context to handle escalations effectively.\n",
    "3. Action Items:\n",
    "  - Set up a project team to explore Azure Communication Services and Azure AI.\n",
    "  - Identify communication channels (e.g., website chat, phone, SMS) for integration.\n",
    "  - Develop a proof-of-concept bot using ChatGPT and Azure OpenAI Service.\n",
    "  - Create a roadmap for implementing the solution.\n",
    "4. Next Steps:\n",
    "  - Let's schedule a follow-up meeting next week to review progress and assign responsibilities.\n",
    "  - Let's grab a coffee and have a chat.\n",
    "\n",
    "Feel free to reach out if you have any questions or need further clarification. Looking forward to working together on this exciting project!\n",
    "\n",
    "Best regards, \n",
    "James\"));\n",
    "\n",
    "var response = await openAIClient.GetChatCompletionsAsync(options);\n",
    "\n",
    "var content = response.Value.Choices[0].Message.Content;\n",
    "\n",
    "File.WriteAllText(\"Playground-dotnet-SDK-Response.json\", JsonSerializer.Serialize(response.Value, new JsonSerializerOptions { WriteIndented = true }));\n",
    "Console.WriteLine(\"Playground-dotnet-SDK-Response.json has been created with the response from the OpenAI API.\");\n",
    "\n",
    "File.WriteAllText(\"Playground-dotnet-SDK-ContentResponse.json\", content);\n",
    "Console.WriteLine(\"Playground-dotnet-SDK-ContentResponse.json has been created with the content from the response from the OpenAI API.\");"
   ]
  }
 ],
 "metadata": {
  "kernelspec": {
   "display_name": ".NET (C#)",
   "language": "C#",
   "name": ".net-csharp"
  },
  "language_info": {
   "name": "python"
  },
  "polyglot_notebook": {
   "kernelInfo": {
    "defaultKernelName": "csharp",
    "items": [
     {
      "aliases": [],
      "name": "csharp"
     }
    ]
   }
  }
 },
 "nbformat": 4,
 "nbformat_minor": 2
}
