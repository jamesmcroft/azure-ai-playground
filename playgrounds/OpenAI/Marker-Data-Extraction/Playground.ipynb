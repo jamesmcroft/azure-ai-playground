{
 "cells": [
  {
   "cell_type": "code",
   "execution_count": null,
   "metadata": {},
   "outputs": [],
   "source": [
    "import sys\n",
    "sys.path.append('../../../')\n",
    "\n",
    "import pypdfium2\n",
    "from marker.convert import convert_single_pdf\n",
    "from marker.models import load_all_models\n",
    "from marker.output import save_markdown\n",
    "import os\n",
    "from dotenv import dotenv_values\n",
    "from openai import AzureOpenAI\n",
    "from azure.identity import DefaultAzureCredential, get_bearer_token_provider\n",
    "from modules.app_settings import AppSettings\n",
    "from modules.invoice import InvoiceData, InvoiceDataProduct\n",
    "from modules.medical import MedicalRecord, MedicalRecordPatient, MedicalRecordReferral"
   ]
  },
  {
   "cell_type": "code",
   "execution_count": null,
   "metadata": {},
   "outputs": [],
   "source": [
    "# Get environment variables\n",
    "working_dir = os.path.abspath('../../../')\n",
    "settings = AppSettings(dotenv_values(f\"{working_dir}/.env\"))"
   ]
  },
  {
   "cell_type": "code",
   "execution_count": null,
   "metadata": {},
   "outputs": [],
   "source": [
    "# Load Models\n",
    "model_lst = load_all_models()"
   ]
  },
  {
   "cell_type": "code",
   "execution_count": null,
   "metadata": {},
   "outputs": [],
   "source": [
    "# Configure Azure OpenAI\n",
    "token_provider = get_bearer_token_provider(DefaultAzureCredential(), \"https://cognitiveservices.azure.com/.default\")\n",
    "\n",
    "openai_client = AzureOpenAI(\n",
    "  azure_endpoint = settings.completions_openai_endpoint,\n",
    "  azure_ad_token_provider=token_provider,\n",
    "  api_version=\"2024-02-01\"\n",
    ")"
   ]
  },
  {
   "cell_type": "code",
   "execution_count": null,
   "metadata": {},
   "outputs": [],
   "source": [
    "# Setup the PDF file\n",
    "pdf_path = '../../Assets/Invoices/'\n",
    "pdf_file_name = 'Invoice-Complex-Scanned.pdf'\n",
    "\n",
    "expected = InvoiceData(\n",
    "    invoice_number='3847193',\n",
    "    purchase_order_number='15931',\n",
    "    customer_name='Sharp Consulting',\n",
    "    customer_address='73 Regal Way, Leeds, LS1 5AB, UK',\n",
    "    delivery_date='2024-05-16',\n",
    "    payable_by='2024-05-24',\n",
    "    products=[\n",
    "        InvoiceDataProduct(\n",
    "            id='MA197',\n",
    "            description='STRETCHWRAP ROLL',\n",
    "            unit_price=16.62,\n",
    "            quantity=5,\n",
    "            total=83.10\n",
    "        ),\n",
    "        InvoiceDataProduct(\n",
    "            id='ST4086',\n",
    "            description='BALLPOINT PEN MED.',\n",
    "            unit_price=2.49,\n",
    "            quantity=10,\n",
    "            total=24.90\n",
    "        ),\n",
    "        InvoiceDataProduct(\n",
    "            id='JF9912413BF',\n",
    "            description='BUBBLE FILM ROLL CL.',\n",
    "            unit_price=15.46,\n",
    "            quantity=12,\n",
    "            total=185.52\n",
    "        ),\n",
    "    ],\n",
    "    returns=[],\n",
    "    total_product_quantity=27,\n",
    "    total_product_price=293.52\n",
    ")"
   ]
  },
  {
   "cell_type": "code",
   "execution_count": null,
   "metadata": {},
   "outputs": [],
   "source": [
    "fname = pdf_path + pdf_file_name\n",
    "\n",
    "full_text, images, out_meta = convert_single_pdf(fname, model_lst, langs=[\"English\"], batch_multiplier=2, start_page=None)\n",
    "\n",
    "subfolder_path = save_markdown('./', pdf_file_name, full_text, images, out_meta)\n",
    "\n",
    "print(f\"Saved markdown to the {subfolder_path} folder\")\n"
   ]
  },
  {
   "cell_type": "code",
   "execution_count": null,
   "metadata": {},
   "outputs": [],
   "source": [
    "json_structure = InvoiceData.empty_json_str()\n",
    "\n",
    "completion = openai_client.chat.completions.create(\n",
    "    model=settings.completions_openai_completion_model_deployment,\n",
    "    messages=[\n",
    "        {\n",
    "            \"role\": \"system\",\n",
    "            \"content\": \"You are an AI assistant that extracts data from documents and returns them as structured JSON objects. Do not return as a code block.\",\n",
    "        },\n",
    "        {\n",
    "            \"role\": \"user\",\n",
    "            \"content\": \"Extract the data from this invoice. If a value is not present, provide null. Use the following structure: \" + json_structure,\n",
    "        },\n",
    "        {\n",
    "            \"role\": \"user\",\n",
    "            \"content\": full_text,\n",
    "        }\n",
    "    ],\n",
    ")"
   ]
  },
  {
   "cell_type": "code",
   "execution_count": null,
   "metadata": {},
   "outputs": [],
   "source": [
    "response_json_str = completion.choices[0].message.content\n",
    "invoice = InvoiceData.from_json_str(response_json_str)\n",
    "\n",
    "invoice_json = invoice.to_json()\n",
    "accuracy = expected.compare_accuracy(invoice)\n",
    "overall_accuracy_percent = accuracy['overall'] * 100\n",
    "\n",
    "print(f\"Response: {invoice_json}\")\n",
    "print(f\"Overall Accuracy: {overall_accuracy_percent:.2f}%\")\n",
    "\n",
    "# Save accuracy result to a file\n",
    "with open(f\"{subfolder_path}/Accuracy.txt\", \"w\") as f:\n",
    "    f.write(\"Response:\")\n",
    "    f.write(\"\\n\")\n",
    "    f.write(response_json_str)\n",
    "    f.write(\"\\n\")\n",
    "    f.write(\"\\n\")\n",
    "    f.write(f\"Overall Accuracy: {overall_accuracy_percent:.2f}%\")\n",
    "    f.write(\"\\n\")\n",
    "    f.write(\"\\n\")\n",
    "    f.write(\"Accuracy Detail:\")\n",
    "    f.write(\"\\n\")\n",
    "    f.write(str(accuracy))\n",
    "\n",
    "print(f\"Accuracy result saved to {subfolder_path}/Accuracy.txt\")"
   ]
  }
 ],
 "metadata": {
  "kernelspec": {
   "display_name": "Python 3",
   "language": "python",
   "name": "python3"
  },
  "language_info": {
   "codemirror_mode": {
    "name": "ipython",
    "version": 3
   },
   "file_extension": ".py",
   "mimetype": "text/x-python",
   "name": "python",
   "nbconvert_exporter": "python",
   "pygments_lexer": "ipython3",
   "version": "3.12.2"
  }
 },
 "nbformat": 4,
 "nbformat_minor": 2
}
