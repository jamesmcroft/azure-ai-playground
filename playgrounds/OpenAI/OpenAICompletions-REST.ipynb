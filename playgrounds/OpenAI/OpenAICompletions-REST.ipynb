{
 "cells": [
  {
   "cell_type": "code",
   "execution_count": null,
   "metadata": {
    "dotnet_interactive": {
     "language": "csharp"
    },
    "polyglot_notebook": {
     "kernelName": "csharp"
    },
    "vscode": {
     "languageId": "polyglot-notebook"
    }
   },
   "outputs": [],
   "source": [
    "#r \"nuget:System.Text.Json, 8.0.1\"\n",
    "#r \"nuget:Azure.Identity, 1.10.4\"\n",
    "#r \"nuget:DotNetEnv, 3.0.0\""
   ]
  },
  {
   "cell_type": "code",
   "execution_count": null,
   "metadata": {
    "dotnet_interactive": {
     "language": "csharp"
    },
    "polyglot_notebook": {
     "kernelName": "csharp"
    },
    "vscode": {
     "languageId": "polyglot-notebook"
    }
   },
   "outputs": [],
   "source": [
    "using System.Net;\n",
    "using System.Net.Http;\n",
    "using System.Net.Http.Headers;\n",
    "using System.Text.Json.Nodes;\n",
    "using System.Text.Json;\n",
    "using System.IO; \n",
    "\n",
    "using Azure;\n",
    "using Azure.Core;\n",
    "using Azure.Identity;\n",
    "using DotNetEnv;"
   ]
  },
  {
   "cell_type": "code",
   "execution_count": null,
   "metadata": {
    "dotnet_interactive": {
     "language": "csharp"
    },
    "polyglot_notebook": {
     "kernelName": "csharp"
    },
    "vscode": {
     "languageId": "polyglot-notebook"
    }
   },
   "outputs": [],
   "source": [
    "Env.Load(\"../../.env\");\n",
    "\n",
    "string openAIEndpoint = Environment.GetEnvironmentVariable(\"COMPLETIONS_OPENAI_ENDPOINT\");\n",
    "string openAIModelDeployment = Environment.GetEnvironmentVariable(\"COMPLETIONS_OPENAI_COMPLETION_MODEL_DEPLOYMENT\");\n",
    "string openAIApiVersion = \"2024-03-01-preview\";\n",
    "\n",
    "var credential = new DefaultAzureCredential(new DefaultAzureCredentialOptions { \n",
    "    ExcludeEnvironmentCredential = true,\n",
    "    ExcludeManagedIdentityCredential = true,\n",
    "    ExcludeSharedTokenCacheCredential = true,\n",
    "    ExcludeInteractiveBrowserCredential = true,\n",
    "    ExcludeAzurePowerShellCredential = true,\n",
    "    ExcludeVisualStudioCodeCredential = false,\n",
    "    ExcludeAzureCliCredential = false\n",
    "});\n",
    "\n",
    "var token = await credential.GetTokenAsync(new TokenRequestContext(new[] { \"https://cognitiveservices.azure.com/.default\" }));"
   ]
  },
  {
   "cell_type": "code",
   "execution_count": null,
   "metadata": {
    "dotnet_interactive": {
     "language": "csharp"
    },
    "polyglot_notebook": {
     "kernelName": "csharp"
    },
    "vscode": {
     "languageId": "polyglot-notebook"
    }
   },
   "outputs": [],
   "source": [
    "var jsonStructure = new {\n",
    "    classification = \"\",\n",
    "    text = \"\"\n",
    "};\n",
    "\n",
    "var jsonStructureList = new List<object>();\n",
    "jsonStructureList.Add(jsonStructure);\n",
    "\n",
    "var requestText = @\"\n",
    "Dear Team,\n",
    "\n",
    "Thank you for attending our recent meeting on building an AI solution using Azure. I wanted to summarize the key points and action items discussed during the meeting:\n",
    "\n",
    "1. Project Overview:\n",
    "  - We discussed the need for an AI solution to enhance customer interactions.\n",
    "  - The goal is to integrate intelligence into our communications across various channels.\n",
    "2. Key Takeaways:\n",
    "  - Azure Communication Services and Azure AI can be used together to automate and transform customer interactions.\n",
    "  - Our solution will provide faster and informed responses across text-based bots, voice channels, email, and SMS.\n",
    "  - Agents can leverage AI context to handle escalations effectively.\n",
    "3. Action Items:\n",
    "  - Set up a project team to explore Azure Communication Services and Azure AI.\n",
    "  - Identify communication channels (e.g., website chat, phone, SMS) for integration.\n",
    "  - Develop a proof-of-concept bot using ChatGPT and Azure OpenAI Service.\n",
    "  - Create a roadmap for implementing the solution.\n",
    "4. Next Steps:\n",
    "  - Let's schedule a follow-up meeting next week to review progress and assign responsibilities.\n",
    "  - Let's grab a coffee and have a chat.\n",
    "\n",
    "Feel free to reach out if you have any questions or need further clarification. Looking forward to working together on this exciting project!\n",
    "\n",
    "Best regards, \n",
    "James\";\n",
    "\n",
    "var requestPayload = new JsonObject\n",
    "{\n",
    "  { \"max_tokens\", 4096 },\n",
    "  { \"temperature\", 0.1 },\n",
    "  { \"top_p\", 0.1 },\n",
    "  { \"logprobs\", true },\n",
    "  { \"top_logprobs\", 3 },\n",
    "  { \"messages\", new JsonArray\n",
    "    {\n",
    "      new JsonObject\n",
    "      {\n",
    "        { \"role\", \"system\" },\n",
    "        { \"content\", $\"You are an AI assistant that splits text. classifies it into categories, and returns the response as structured JSON objects using the following structure: {JsonSerializer.Serialize(jsonStructureList)}. Do not return as a code block.\" }\n",
    "      },\n",
    "      new JsonObject\n",
    "      {\n",
    "        { \"role\", \"user\" },\n",
    "        { \"content\", \"Classify the following text in the following categories: 'top_priority', 'high_priority', 'medium_priority', 'low_priority'.\" }\n",
    "      },\n",
    "      new JsonObject\n",
    "      {\n",
    "        { \"role\", \"user\" },\n",
    "        { \"content\", requestText }\n",
    "      }\n",
    "    }\n",
    "  }\n",
    "};\n",
    "\n",
    "string payload = JsonSerializer.Serialize(requestPayload, new JsonSerializerOptions\n",
    "{\n",
    "    WriteIndented = true\n",
    "});\n",
    "\n",
    "string endpoint = $\"{openAIEndpoint}openai/deployments/{openAIModelDeployment}/chat/completions?api-version={openAIApiVersion}\";\n",
    "\n",
    "using (HttpClient httpClient = new HttpClient())\n",
    "{\n",
    "    httpClient.BaseAddress = new Uri(endpoint);\n",
    "    httpClient.DefaultRequestHeaders.Add(\"Authorization\", $\"Bearer {token.Token}\");\n",
    "    httpClient.DefaultRequestHeaders.Accept.Add(new System.Net.Http.Headers.MediaTypeWithQualityHeaderValue(\"application/json\"));\n",
    "\n",
    "    var stringContent = new StringContent(payload, Encoding.UTF8, \"application/json\");\n",
    "\n",
    "    var responseMessage = await httpClient.PostAsync(endpoint, stringContent);\n",
    "\n",
    "    if (responseMessage.IsSuccessStatusCode)\n",
    "    {\n",
    "        using (var responseStream = await responseMessage.Content.ReadAsStreamAsync())\n",
    "        {\n",
    "            using (var streamReader = new StreamReader(responseStream))\n",
    "            {\n",
    "                var response = await streamReader.ReadToEndAsync();\n",
    "                File.WriteAllText(\"OpenAICompletions-REST-Response.json\", response);\n",
    "                Console.WriteLine(\"OpenAICompletions-REST-Response.json has been created with the response from the OpenAI API.\");\n",
    "            }\n",
    "        }\n",
    "    }\n",
    "    else\n",
    "    {\n",
    "        Console.WriteLine($\"Error: {responseMessage}\");\n",
    "    }\n",
    "}"
   ]
  }
 ],
 "metadata": {
  "language_info": {
   "name": "python"
  }
 },
 "nbformat": 4,
 "nbformat_minor": 2
}
