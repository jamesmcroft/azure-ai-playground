{
 "cells": [
  {
   "cell_type": "code",
   "execution_count": null,
   "metadata": {},
   "outputs": [],
   "source": [
    "from __future__ import annotations\n",
    "from pydantic import BaseModel\n",
    "from openai import OpenAI\n",
    "import sys\n",
    "sys.path.append('../../../')\n",
    "\n",
    "import os\n",
    "from dotenv import dotenv_values\n",
    "from modules.app_settings import AppSettings"
   ]
  },
  {
   "cell_type": "code",
   "execution_count": null,
   "metadata": {},
   "outputs": [],
   "source": [
    "# Get environment variables\n",
    "working_dir = os.path.abspath('../../../')\n",
    "settings = AppSettings(dotenv_values(f\"{working_dir}/.env\"))"
   ]
  },
  {
   "cell_type": "code",
   "execution_count": null,
   "metadata": {},
   "outputs": [],
   "source": [
    "# Setup the Invoice Markdown file\n",
    "markdown_path = '../../Assets/Invoices/'\n",
    "markdown_file_name = 'Invoice-Markdown.md'\n",
    "\n",
    "# Load the text from the markdown file\n",
    "markdown_content = open(f\"{markdown_path}{markdown_file_name}\", \"r\").read()\n",
    "\n",
    "print(markdown_content)"
   ]
  },
  {
   "cell_type": "code",
   "execution_count": null,
   "metadata": {},
   "outputs": [],
   "source": [
    "client = OpenAI(api_key=settings.openai_api_key)"
   ]
  },
  {
   "cell_type": "code",
   "execution_count": null,
   "metadata": {},
   "outputs": [],
   "source": [
    "class InvoiceData(BaseModel):\n",
    "    invoice_number: str\n",
    "    purhcase_order_number: str\n",
    "    customer_name: str\n",
    "    customer_address: str\n",
    "    delivery_date: str\n",
    "    payable_by: str\n",
    "    total_product_quantity: float\n",
    "    total_product_price: float\n",
    "    products: list[InvoiceProduct]\n",
    "    \n",
    "class InvoiceProduct(BaseModel):\n",
    "    id: str\n",
    "    description: str | None\n",
    "    unit_price: float\n",
    "    quantity: float\n",
    "    total_price: float\n",
    "    reason: str | None"
   ]
  },
  {
   "cell_type": "code",
   "execution_count": null,
   "metadata": {},
   "outputs": [],
   "source": [
    "completion = client.beta.chat.completions.parse(\n",
    "    model=\"gpt-4o-2024-08-06\",\n",
    "    messages=[\n",
    "        {\n",
    "            \"role\": \"system\",\n",
    "            \"content\": \"You are an AI assistant that extracts data from documents and returns them as structured JSON objects. Do not return as a code block.\"\n",
    "        },\n",
    "        {\n",
    "            \"role\": \"user\",\n",
    "            \"content\": \"Extract the data from this invoice. If a value is not present, provide null.\"\n",
    "        },\n",
    "        {\n",
    "            \"role\": \"user\",\n",
    "            \"content\": markdown_content\n",
    "        }\n",
    "    ],\n",
    "    response_format=InvoiceData\n",
    ")"
   ]
  },
  {
   "cell_type": "code",
   "execution_count": null,
   "metadata": {},
   "outputs": [],
   "source": [
    "invoice = completion.choices[0].message.parsed\n",
    "\n",
    "print(invoice.json())"
   ]
  }
 ],
 "metadata": {
  "kernelspec": {
   "display_name": "Python 3",
   "language": "python",
   "name": "python3"
  },
  "language_info": {
   "codemirror_mode": {
    "name": "ipython",
    "version": 3
   },
   "file_extension": ".py",
   "mimetype": "text/x-python",
   "name": "python",
   "nbconvert_exporter": "python",
   "pygments_lexer": "ipython3",
   "version": "3.12.5"
  }
 },
 "nbformat": 4,
 "nbformat_minor": 2
}
