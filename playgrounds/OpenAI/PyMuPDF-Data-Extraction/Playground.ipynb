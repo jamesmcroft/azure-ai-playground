{
 "cells": [
  {
   "cell_type": "code",
   "execution_count": null,
   "metadata": {},
   "outputs": [],
   "source": [
    "import sys\n",
    "sys.path.append('../../../')\n",
    "\n",
    "import pymupdf\n",
    "import os\n",
    "from dotenv import dotenv_values\n",
    "from openai import AzureOpenAI\n",
    "from azure.identity import DefaultAzureCredential, get_bearer_token_provider\n",
    "from modules.app_settings import AppSettings\n",
    "from modules.invoice import InvoiceData"
   ]
  },
  {
   "cell_type": "code",
   "execution_count": null,
   "metadata": {},
   "outputs": [],
   "source": [
    "# Configure Tesseract\n",
    "os.environ['TESSDATA_PREFIX'] = '/usr/share/tesseract-ocr/4.00/tessdata'\n",
    "tessdata = os.environ['TESSDATA_PREFIX']\n",
    "\n",
    "# Get environment variables\n",
    "working_dir = os.path.abspath('../../../')\n",
    "settings = AppSettings(dotenv_values(f\"{working_dir}/.env\"))\n",
    "\n",
    "# Configure Azure OpenAI\n",
    "token_provider = get_bearer_token_provider(DefaultAzureCredential(), \"https://cognitiveservices.azure.com/.default\")\n",
    "\n",
    "openai_client = AzureOpenAI(\n",
    "  azure_endpoint = settings.completions_openai_endpoint,\n",
    "  azure_ad_token_provider=token_provider,\n",
    "  api_version=\"2024-02-01\"\n",
    ")\n",
    "\n",
    "# Setup the PDF file\n",
    "pdf_path = '../../Assets/Invoices/'\n",
    "pdf_file_name = 'Invoice-Complex.pdf'\n",
    "\n",
    "is_scanned = False\n",
    "\n",
    "if is_scanned:\n",
    "    image_file_name = pdf_file_name + '.image.page_%s.png'\n",
    "    ocr_pdf_file_name = pdf_file_name + '.ocr.page_%s.pdf'"
   ]
  },
  {
   "cell_type": "code",
   "execution_count": null,
   "metadata": {},
   "outputs": [],
   "source": [
    "original_doc = pymupdf.open(pdf_path + pdf_file_name)\n",
    "\n",
    "doc_text = ''\n",
    "\n",
    "for page_index in range(len(original_doc)):\n",
    "    original_page = original_doc[page_index]\n",
    "\n",
    "    if is_scanned:\n",
    "        page_images = original_page.get_images() # Get the images of the page\n",
    "\n",
    "        for page_image_idx, page_image in enumerate(page_images, start=1):\n",
    "            page_image_ref = page_image[0] \n",
    "            page_image_pixmap = pymupdf.Pixmap(original_doc, page_image_ref) \n",
    "\n",
    "            if page_image_pixmap.n - page_image_pixmap.alpha > 3:\n",
    "                page_image_pixmap = pymupdf.Pixmap(pymupdf.csRGB, page_image_pixmap)\n",
    "\n",
    "            # DEBUG: Save the image\n",
    "            page_image_pixmap.save(image_file_name % page_index) \n",
    "\n",
    "            # Perform OCR on the image\n",
    "            page_image_pixmap.pdfocr_save(ocr_pdf_file_name % page_index, tessdata=tessdata)\n",
    "\n",
    "            ocr_doc = pymupdf.open(ocr_pdf_file_name % page_index)\n",
    "            for ocr_page in ocr_doc:\n",
    "                doc_text += ocr_page.get_text()\n",
    "                print(ocr_page.get_text())\n",
    "    else:\n",
    "        doc_text += original_page.get_text()\n",
    "        print(original_page.get_text())"
   ]
  },
  {
   "cell_type": "code",
   "execution_count": null,
   "metadata": {},
   "outputs": [],
   "source": [
    "json_structure = InvoiceData.empty_json_str()\n",
    "\n",
    "completion = openai_client.chat.completions.create(\n",
    "    model=settings.completions_openai_completion_model_deployment,\n",
    "    messages=[\n",
    "        {\n",
    "            \"role\": \"system\",\n",
    "            \"content\": \"You are an AI assistant that extracts data from documents and returns them as structured JSON objects. Do not return as a code block.\",\n",
    "        },\n",
    "        {\n",
    "            \"role\": \"user\",\n",
    "            \"content\": \"Extract the data from this invoice. If a value is not present, provide null. Use the following structure: \" + json_structure,\n",
    "        },\n",
    "        {\n",
    "            \"role\": \"user\",\n",
    "            \"content\": doc_text,\n",
    "        }\n",
    "    ],\n",
    ")\n",
    "\n",
    "invoice = InvoiceData.from_json(completion.choices[0].message.content)\n",
    "print(invoice.to_json())"
   ]
  }
 ],
 "metadata": {
  "kernelspec": {
   "display_name": "Python 3",
   "language": "python",
   "name": "python3"
  },
  "language_info": {
   "codemirror_mode": {
    "name": "ipython",
    "version": 3
   },
   "file_extension": ".py",
   "mimetype": "text/x-python",
   "name": "python",
   "nbconvert_exporter": "python",
   "pygments_lexer": "ipython3",
   "version": "3.12.2"
  }
 },
 "nbformat": 4,
 "nbformat_minor": 2
}
